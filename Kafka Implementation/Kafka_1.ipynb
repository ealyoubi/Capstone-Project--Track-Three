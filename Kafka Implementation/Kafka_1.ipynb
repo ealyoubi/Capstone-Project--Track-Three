{
 "cells": [
  {
   "cell_type": "markdown",
   "id": "c22c6596",
   "metadata": {},
   "source": [
    "# Kafka - Python - MongoDB \n",
    "## Twitter API Sentiment Analysis "
   ]
  },
  {
   "cell_type": "markdown",
   "id": "ce9db935",
   "metadata": {},
   "source": [
    "# Producer Section\n",
    "\n",
    "In this Notebook, we will initialize our Kafka client after starting __zookeeper__ and __kafka server__ in the terminal. Then we will use Twitter stream and connect it to our Producer to send tweet text to our Topic."
   ]
  },
  {
   "cell_type": "markdown",
   "id": "a7a64322",
   "metadata": {},
   "source": [
    "__Step 1__: Open command prompt and change the directory to the kafka folder. First start zookeeper using the command given below:\n",
    "\n",
    "#### For Windows: \n",
    ".\\bin\\windows\\zookeeper-server-start.bat .\\config\\zookeeper.properties\n",
    "<br/>\n",
    "<br/>\n",
    "\n",
    "\n",
    "__Step 2__: Now open another command prompt and change the directory to the kafka folder. Run kafka server using the command:\n",
    "#### For Windows: \n",
    ".\\bin\\windows\\kafka-server-start.bat .\\config\\server.properties\n",
    "<br/>\n",
    "<br/>\n",
    "\n",
    "\n",
    "#### Creating a Kafka Topic\n",
    "\n",
    "__Step 1__: Open a new command prompt in the location C:\\kafka\\bin\\windows\n",
    "\n",
    "__Step 2__: Run the following command:\n",
    "\n",
    "#### For Windows: \n",
    "kafka-topics.bat --create --topic caraccidents --bootstrap-server localhost:9092 --replication-factor 1 --partitions 1 --\n",
    "kafka-topics.bat --create --topic accidents --bootstrap-server localhost:9092 --replication-factor 1 --partitions 1 --\n"
   ]
  },
  {
   "cell_type": "code",
   "execution_count": 1,
   "id": "81d78486",
   "metadata": {},
   "outputs": [],
   "source": [
    "# Necessay Imports\n",
    "import tweepy\n",
    "from pykafka import KafkaClient\n",
    "import json"
   ]
  },
  {
   "cell_type": "code",
   "execution_count": 2,
   "id": "fc4a0ab2",
   "metadata": {},
   "outputs": [],
   "source": [
    "#custom function to initialize kafka client\n",
    "def get_kafka_client():\n",
    "    return KafkaClient(hosts='127.0.0.1:9092')\n",
    "\n",
    "#To be able to fetch streaming tweets using Tweepy, you’ll have to define a custom class \n",
    "#that subclasses the StreamingClient class. This class needs to override a method called \n",
    "#on_tweet that gets executed every time a tweet is received: to make things simple we’ll \n",
    "#tell this method to print the tweet’s id and text.\n",
    "class StdOutListener(tweepy.StreamingClient):\n",
    "    def on_data(self, tweet):\n",
    "        message = json.loads(tweet) #load tweet data using json.loads and save it into a variable\n",
    "        data = message['data']['text'] #extract only the tweet text from the tweet data\n",
    "        client = get_kafka_client() #initialize kafka client using the function we created earlier \n",
    "        topic = client.topics['accidents'] #access our topic and store it in a variable\n",
    "        producer = topic.get_sync_producer() #access our producer\n",
    "        producer.produce(data.encode('utf-8')) #send tweet text through our producer\n",
    "        return True\n",
    "\n",
    "    def on_error(self, status):\n",
    "        print(status)\n",
    "        "
   ]
  },
  {
   "cell_type": "code",
   "execution_count": 6,
   "id": "747e4514",
   "metadata": {},
   "outputs": [
    {
     "data": {
      "text/plain": [
       "Response(data=[StreamRule(value='Tesla lang:en', tag=None, id='1605103016729886725'), StreamRule(value='world cup lang:en', tag=None, id='1605529790794158080'), StreamRule(value='iphone lang:en', tag=None, id='1605553282268659712'), StreamRule(value='tesla lang:en -is:retweet', tag=None, id='1605564358699917313'), StreamRule(value='weather lang:en -is:retweet', tag=None, id='1607664092176687104')], includes={}, errors=[], meta={'sent': '2022-12-27T10:58:35.911Z', 'result_count': 5})"
      ]
     },
     "execution_count": 6,
     "metadata": {},
     "output_type": "execute_result"
    }
   ],
   "source": [
    "#getting all the rules \n",
    "stream.get_rules()"
   ]
  },
  {
   "cell_type": "code",
   "execution_count": 6,
   "id": "71541468",
   "metadata": {},
   "outputs": [
    {
     "data": {
      "text/plain": [
       "Response(data=None, includes={}, errors=[], meta={'sent': '2022-12-27T12:06:12.220Z', 'summary': {'deleted': 1, 'not_deleted': 0}})"
      ]
     },
     "execution_count": 6,
     "metadata": {},
     "output_type": "execute_result"
    }
   ],
   "source": [
    "#delete not needed rules\n",
    "stream.delete_rules('1607697870748106757')"
   ]
  },
  {
   "cell_type": "code",
   "execution_count": 4,
   "id": "79d9a0f0",
   "metadata": {},
   "outputs": [
    {
     "data": {
      "text/plain": [
       "Response(data=None, includes={}, errors=[], meta={'sent': '2022-12-27T12:14:26.726Z', 'result_count': 0})"
      ]
     },
     "execution_count": 4,
     "metadata": {},
     "output_type": "execute_result"
    }
   ],
   "source": [
    "#getting all the rules after the deletion process\n",
    "stream.get_rules()"
   ]
  },
  {
   "cell_type": "code",
   "execution_count": null,
   "id": "55aede7c",
   "metadata": {},
   "outputs": [],
   "source": [
    "bearer_token = 'AAAAAAAAAAAAAAAAAAAAAF1UkAEAAAAAg%2B6%2FG4HfAQuO5ZZLnv1r5lzVcEQ%3DCvhKaygHZSAbROakkzuGr4ROGmciFQqMNktgvNQlfFT9gsyZEM'\n",
    "\n",
    "#To instantiate a custom streamer out of this class, we need to pass the bearer token to the constructor.\n",
    "stream = StdOutListener(bearer_token)\n",
    "\n",
    "#Then, we’ll need to attach some rules that define what we want to search \n",
    "#(note that tweepy allows you to have multiple rules in a list but we’ll only set one in this example).\n",
    "# use this link to find rules: https://developer.twitter.com/en/docs/twitter-api/tweets/filtered-stream/integrate/build-a-rule#adding-removing\n",
    "\n",
    "stream.add_rules(tweepy.StreamRule(\"weather lang:en \"))\n",
    "\n",
    "#Finally, calling the filter method opens up the stream and runs the on_tweet method on every incoming tweet.\n",
    "stream.filter()"
   ]
  },
  {
   "cell_type": "markdown",
   "id": "0f3c7b8a",
   "metadata": {},
   "source": [
    "\n"
   ]
  }
 ],
 "metadata": {
  "kernelspec": {
   "display_name": "Python 3 (ipykernel)",
   "language": "python",
   "name": "python3"
  },
  "language_info": {
   "codemirror_mode": {
    "name": "ipython",
    "version": 3
   },
   "file_extension": ".py",
   "mimetype": "text/x-python",
   "name": "python",
   "nbconvert_exporter": "python",
   "pygments_lexer": "ipython3",
   "version": "3.8.8"
  }
 },
 "nbformat": 4,
 "nbformat_minor": 5
}
